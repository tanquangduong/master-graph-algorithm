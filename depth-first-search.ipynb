{
 "cells": [
  {
   "cell_type": "code",
   "execution_count": 3,
   "id": "5cc33c2f",
   "metadata": {},
   "outputs": [],
   "source": [
    "def dfs(graph, start, visited=None):\n",
    "    if visited is None:\n",
    "        visited = set()\n",
    "    visited.add(start)\n",
    "    print(start)\n",
    "    for next in graph[start] - visited:\n",
    "        dfs(graph, next, visited)\n",
    "    return visited"
   ]
  },
  {
   "cell_type": "code",
   "execution_count": 4,
   "id": "729d12bb",
   "metadata": {},
   "outputs": [],
   "source": [
    "graph={'Amin'  : {'Wasim', 'Nick', 'Mike'},\n",
    "       'Wasim' : {'Imran', 'Amin'}, \n",
    "       'Imran' : {'Wasim','Faras'}, \n",
    "       'Faras' : {'Imran'},\n",
    "       'Mike': {'Amin'}, \n",
    "       'Nick': {'Amin'}\n",
    "      }"
   ]
  },
  {
   "cell_type": "markdown",
   "id": "4b2d5d91",
   "metadata": {},
   "source": [
    "![graph draw](./figs/demo-bfs-dfs.PNG)"
   ]
  },
  {
   "cell_type": "code",
   "execution_count": 7,
   "id": "a4ee48de",
   "metadata": {},
   "outputs": [
    {
     "name": "stdout",
     "output_type": "stream",
     "text": [
      "Amin\n",
      "Mike\n",
      "Nick\n",
      "Wasim\n",
      "Imran\n",
      "Faras\n"
     ]
    },
    {
     "data": {
      "text/plain": [
       "{'Amin', 'Faras', 'Imran', 'Mike', 'Nick', 'Wasim'}"
      ]
     },
     "execution_count": 7,
     "metadata": {},
     "output_type": "execute_result"
    }
   ],
   "source": [
    "dfs(graph,'Amin')"
   ]
  },
  {
   "cell_type": "code",
   "execution_count": null,
   "id": "a2a1ad3c",
   "metadata": {},
   "outputs": [],
   "source": []
  }
 ],
 "metadata": {
  "kernelspec": {
   "display_name": "Python 3 (ipykernel)",
   "language": "python",
   "name": "python3"
  },
  "language_info": {
   "codemirror_mode": {
    "name": "ipython",
    "version": 3
   },
   "file_extension": ".py",
   "mimetype": "text/x-python",
   "name": "python",
   "nbconvert_exporter": "python",
   "pygments_lexer": "ipython3",
   "version": "3.10.10"
  }
 },
 "nbformat": 4,
 "nbformat_minor": 5
}
