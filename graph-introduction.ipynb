{
 "cells": [
  {
   "cell_type": "code",
   "execution_count": 1,
   "id": "ad657d4c",
   "metadata": {},
   "outputs": [],
   "source": [
    "import networkx as nx"
   ]
  },
  {
   "cell_type": "code",
   "execution_count": 2,
   "id": "9d06c4b4",
   "metadata": {},
   "outputs": [],
   "source": [
    "# Create an empty graph\n",
    "G = nx.Graph()"
   ]
  },
  {
   "cell_type": "code",
   "execution_count": 3,
   "id": "cd588e3e",
   "metadata": {},
   "outputs": [],
   "source": [
    "# Add a single vertex\n",
    "G.add_node(\"Henri\")"
   ]
  },
  {
   "cell_type": "code",
   "execution_count": 4,
   "id": "0b3b7569",
   "metadata": {},
   "outputs": [],
   "source": [
    "# Add a bunch  of vertice using a list\n",
    "G.add_nodes_from([\"Laura\", \"Rayan\", \"Pedro\"])"
   ]
  },
  {
   "cell_type": "code",
   "execution_count": 5,
   "id": "14acd4da",
   "metadata": {},
   "outputs": [],
   "source": [
    "# Add one edge between the existing vertices\n",
    "G.add_edge(\"Henri\", \"Laura\") "
   ]
  },
  {
   "cell_type": "code",
   "execution_count": 7,
   "id": "94b4bc8e",
   "metadata": {},
   "outputs": [
    {
     "data": {
      "text/plain": [
       "['Henri', 'Laura', 'Rayan', 'Pedro']"
      ]
     },
     "execution_count": 7,
     "metadata": {},
     "output_type": "execute_result"
    }
   ],
   "source": [
    "# Print list of vertices\n",
    "list(G.nodes)"
   ]
  },
  {
   "cell_type": "code",
   "execution_count": 8,
   "id": "2197a917",
   "metadata": {},
   "outputs": [
    {
     "data": {
      "text/plain": [
       "[('Henri', 'Laura')]"
      ]
     },
     "execution_count": 8,
     "metadata": {},
     "output_type": "execute_result"
    }
   ],
   "source": [
    "# Print list of edges\n",
    "list(G.edges)"
   ]
  },
  {
   "cell_type": "code",
   "execution_count": 10,
   "id": "cba80bd6",
   "metadata": {},
   "outputs": [],
   "source": [
    "# Add one edge between the existing vertices\n",
    "G.add_edge(\"Laura\", \"Rayan\") "
   ]
  },
  {
   "cell_type": "code",
   "execution_count": 12,
   "id": "81c571ec",
   "metadata": {},
   "outputs": [
    {
     "data": {
      "text/plain": [
       "[('Henri', 'Laura'), ('Laura', 'Rayan')]"
      ]
     },
     "execution_count": 12,
     "metadata": {},
     "output_type": "execute_result"
    }
   ],
   "source": [
    "# Print list of edges\n",
    "list(G.edges)"
   ]
  },
  {
   "cell_type": "markdown",
   "id": "6dc462e9",
   "metadata": {},
   "source": [
    "# Type of graphs:\n",
    "- Undirected graphs\n",
    "- Directed graphs\n",
    "- Undirected multigraphs\n",
    "- Directed multigraphs"
   ]
  }
 ],
 "metadata": {
  "kernelspec": {
   "display_name": "Python 3 (ipykernel)",
   "language": "python",
   "name": "python3"
  },
  "language_info": {
   "codemirror_mode": {
    "name": "ipython",
    "version": 3
   },
   "file_extension": ".py",
   "mimetype": "text/x-python",
   "name": "python",
   "nbconvert_exporter": "python",
   "pygments_lexer": "ipython3",
   "version": "3.10.10"
  }
 },
 "nbformat": 4,
 "nbformat_minor": 5
}
