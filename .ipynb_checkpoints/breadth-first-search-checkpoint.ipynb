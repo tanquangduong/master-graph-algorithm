{
 "cells": [
  {
   "cell_type": "markdown",
   "id": "178711af",
   "metadata": {},
   "source": [
    "# Breadth-first Search"
   ]
  },
  {
   "cell_type": "code",
   "execution_count": 1,
   "id": "5636bb60",
   "metadata": {},
   "outputs": [],
   "source": [
    "def bfs(graph, start):\n",
    "    visited = []\n",
    "    queue = [start]\n",
    " \n",
    "    while queue:\n",
    "        node = queue.pop(0)\n",
    "        if node not in visited:\n",
    "            visited.append(node)\n",
    "            neighbours = graph[node]\n",
    "            for neighbour in neighbours:\n",
    "                queue.append(neighbour)\n",
    "    return visited"
   ]
  },
  {
   "cell_type": "code",
   "execution_count": 2,
   "id": "a498034e",
   "metadata": {},
   "outputs": [],
   "source": [
    "graph={'Amin'  : {'Wasim', 'Nick', 'Mike'},\n",
    "       'Wasim' : {'Imran', 'Amin'}, \n",
    "       'Imran' : {'Wasim','Faras'}, \n",
    "       'Faras' : {'Imran'},\n",
    "       'Mike': {'Amin'}, \n",
    "       'Nick': {'Amin'}\n",
    "      }"
   ]
  },
  {
   "cell_type": "markdown",
   "id": "10d80821",
   "metadata": {},
   "source": [
    "![graph draw](./figs/demo-bfs-dfs.PNG)"
   ]
  },
  {
   "cell_type": "code",
   "execution_count": 3,
   "id": "8a9f6995",
   "metadata": {},
   "outputs": [
    {
     "data": {
      "text/plain": [
       "['Amin', 'Wasim', 'Mike', 'Nick', 'Imran', 'Faras']"
      ]
     },
     "execution_count": 3,
     "metadata": {},
     "output_type": "execute_result"
    }
   ],
   "source": [
    "bfs(graph,'Amin')"
   ]
  },
  {
   "cell_type": "code",
   "execution_count": 4,
   "id": "1f6b312a",
   "metadata": {},
   "outputs": [
    {
     "data": {
      "text/plain": [
       "['Imran', 'Wasim', 'Faras', 'Amin', 'Mike', 'Nick']"
      ]
     },
     "execution_count": 4,
     "metadata": {},
     "output_type": "execute_result"
    }
   ],
   "source": [
    "bfs(graph,'Imran')"
   ]
  },
  {
   "cell_type": "code",
   "execution_count": 5,
   "id": "0c066e39",
   "metadata": {},
   "outputs": [
    {
     "data": {
      "text/plain": [
       "['Mike', 'Amin', 'Wasim', 'Nick', 'Imran', 'Faras']"
      ]
     },
     "execution_count": 5,
     "metadata": {},
     "output_type": "execute_result"
    }
   ],
   "source": [
    "bfs(graph,'Mike')"
   ]
  },
  {
   "cell_type": "code",
   "execution_count": null,
   "id": "abb8c182",
   "metadata": {},
   "outputs": [],
   "source": []
  }
 ],
 "metadata": {
  "kernelspec": {
   "display_name": "Python 3 (ipykernel)",
   "language": "python",
   "name": "python3"
  },
  "language_info": {
   "codemirror_mode": {
    "name": "ipython",
    "version": 3
   },
   "file_extension": ".py",
   "mimetype": "text/x-python",
   "name": "python",
   "nbconvert_exporter": "python",
   "pygments_lexer": "ipython3",
   "version": "3.10.10"
  }
 },
 "nbformat": 4,
 "nbformat_minor": 5
}
